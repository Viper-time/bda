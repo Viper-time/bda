{
 "cells": [
  {
   "cell_type": "code",
   "execution_count": null,
   "id": "c82469fb",
   "metadata": {},
   "outputs": [],
   "source": [
    "\"\"\"Given the following tables, Perform Full outer join on dataframe.\n",
    "\n",
    "Age\tName\n",
    " 2 \tAlice \n",
    "5\tBob\n",
    "\n",
    "Height\tName\n",
    "80\tTom\n",
    "85\tBob\n",
    "\n",
    "Age\tName\n",
    " 2 \tAlice \n",
    "5\tBob\n",
    "\n",
    "Age\tHeight\tName \n",
    "10\t80\tAlice\n",
    "5\tNone\tBob\n",
    "None\tNone\tTom\n",
    "None\tNone\tNone\n",
    "\n",
    "a.\tWrite query and Perform Join of df1 and df2 to find the height\n",
    "b.\tWrite query and Perform outer join of df1 and df2 to find the heights \n",
    "c.\tWrite query and Perform outer join of df1 and df2 to find the age\n",
    "\"\"\""
   ]
  },
  {
   "cell_type": "code",
   "execution_count": 1,
   "id": "897d7cde",
   "metadata": {},
   "outputs": [
    {
     "name": "stdout",
     "output_type": "stream",
     "text": [
      "DataFrame df1:\n",
      "   Age   Name\n",
      "0    2  Alice\n",
      "1    5    Bob\n",
      "*******************\n",
      "DataFrame df2:\n",
      "   Height Name\n",
      "0      80  Tom\n",
      "1      85  Bob\n",
      "*******************\n",
      "DataFrame df3:\n",
      "   Age   Name\n",
      "0    2  Alice\n",
      "1    5    Bob\n",
      "*******************\n",
      "\n",
      "DataFrame df4:\n",
      "    Age  Height   Name\n",
      "0  10.0    80.0  Alice\n",
      "1   5.0     NaN    Bob\n",
      "2   NaN     NaN    Tom\n",
      "3   NaN     NaN   None\n"
     ]
    }
   ],
   "source": [
    "import pandas as pd\n",
    "\n",
    "# DataFrame 1 (df1): Age and Name\n",
    "data1 = {'Age': [2, 5], 'Name': ['Alice', 'Bob']}\n",
    "df1 = pd.DataFrame(data1)\n",
    "\n",
    "# DataFrame 2 (df2): Height and Name\n",
    "data2 = {'Height': [80, 85], 'Name': ['Tom', 'Bob']}\n",
    "df2 = pd.DataFrame(data2)\n",
    "\n",
    "# DataFrame 3 (df3): Age and Name\n",
    "data3 = {'Age': [2, 5], 'Name': ['Alice', 'Bob']}\n",
    "df3 = pd.DataFrame(data3)\n",
    "\n",
    "# DataFrame 4 (df4): Age, Height, and Name\n",
    "data4 = {'Age': [10, 5, None, None], 'Height': [80, None, None, None], 'Name': ['Alice', 'Bob', 'Tom', None]}\n",
    "df4 = pd.DataFrame(data4)\n",
    "\n",
    "# Displaying both DataFrames\n",
    "print(\"DataFrame df1:\")\n",
    "print(df1)\n",
    "print(\"*******************\")\n",
    "print(\"DataFrame df2:\")\n",
    "print(df2)\n",
    "print(\"*******************\")\n",
    "print(\"DataFrame df3:\")\n",
    "print(df3)\n",
    "print(\"*******************\")\n",
    "print(\"\\nDataFrame df4:\")\n",
    "print(df4)\n"
   ]
  },
  {
   "cell_type": "code",
   "execution_count": 3,
   "id": "c42650b5",
   "metadata": {},
   "outputs": [
    {
     "name": "stdout",
     "output_type": "stream",
     "text": [
      "   Age Name  Height\n",
      "0    5  Bob      85\n"
     ]
    }
   ],
   "source": [
    "# Inner join on 'Name' column to find heights\n",
    "result_a = pd.merge(df1, df2, on='Name', how='inner')\n",
    "print(result_a)\n"
   ]
  },
  {
   "cell_type": "code",
   "execution_count": 8,
   "id": "c5f6ce98",
   "metadata": {},
   "outputs": [
    {
     "name": "stdout",
     "output_type": "stream",
     "text": [
      "   Age   Name  Height\n",
      "0  2.0  Alice     NaN\n",
      "1  5.0    Bob    85.0\n",
      "2  NaN    Tom    80.0\n"
     ]
    }
   ],
   "source": [
    "# Full outer join on 'Name' column\n",
    "result_b = pd.merge(df1, df2, on='Name', how='outer')\n",
    "print(result_b)\n"
   ]
  },
  {
   "cell_type": "code",
   "execution_count": 9,
   "id": "f1846c9a",
   "metadata": {},
   "outputs": [
    {
     "name": "stdout",
     "output_type": "stream",
     "text": [
      "   Age   Name\n",
      "0  2.0  Alice\n",
      "1  5.0    Bob\n",
      "2  NaN    Tom\n"
     ]
    }
   ],
   "source": [
    "# Full outer join on 'Name' column to find ages\n",
    "result_c = pd.merge(df1, df2, on='Name', how='outer')\n",
    "print(result_c[['Age', 'Name']])\n"
   ]
  },
  {
   "cell_type": "code",
   "execution_count": null,
   "id": "3ab6926c",
   "metadata": {},
   "outputs": [],
   "source": []
  },
  {
   "cell_type": "code",
   "execution_count": null,
   "id": "3b40601d",
   "metadata": {},
   "outputs": [],
   "source": []
  }
 ],
 "metadata": {
  "kernelspec": {
   "display_name": "Python 3 (ipykernel)",
   "language": "python",
   "name": "python3"
  },
  "language_info": {
   "codemirror_mode": {
    "name": "ipython",
    "version": 3
   },
   "file_extension": ".py",
   "mimetype": "text/x-python",
   "name": "python",
   "nbconvert_exporter": "python",
   "pygments_lexer": "ipython3",
   "version": "3.11.5"
  }
 },
 "nbformat": 4,
 "nbformat_minor": 5
}
